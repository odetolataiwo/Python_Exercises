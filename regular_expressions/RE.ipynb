{
 "metadata": {
  "language_info": {
   "codemirror_mode": {
    "name": "ipython",
    "version": 3
   },
   "file_extension": ".py",
   "mimetype": "text/x-python",
   "name": "python",
   "nbconvert_exporter": "python",
   "pygments_lexer": "ipython3",
   "version": "3.8.5-final"
  },
  "orig_nbformat": 2,
  "kernelspec": {
   "name": "python38564bit74406e385ddb4138ab3f80e767a4f801",
   "display_name": "Python 3.8.5 64-bit"
  }
 },
 "nbformat": 4,
 "nbformat_minor": 2,
 "cells": [
  {
   "source": [
    "# Regular Expressions"
   ],
   "cell_type": "markdown",
   "metadata": {}
  },
  {
   "cell_type": "code",
   "execution_count": 1,
   "metadata": {},
   "outputs": [],
   "source": [
    "#(Regular expression are used for specifying text patterns)\n",
    "import re  #import regular expressions"
   ]
  },
  {
   "cell_type": "code",
   "execution_count": 26,
   "metadata": {},
   "outputs": [],
   "source": [
    "#this is to check if phone numbers exits in a block of text.\n",
    "\n",
    "#block of text\n",
    "message = 'call me 415-533-5353 tomorrow, or at 412-555-4332'"
   ]
  },
  {
   "cell_type": "code",
   "execution_count": 27,
   "metadata": {},
   "outputs": [
    {
     "output_type": "stream",
     "name": "stdout",
     "text": [
      "<re.Match object; span=(8, 20), match='415-533-5353'>\n415-533-5353\n['415-533-5353', '412-555-4332']\n"
     ]
    }
   ],
   "source": [
    "#\\d is the regex for a numeric digit character\n",
    "#phone number pattern (ddd-ddd-dddd)\n",
    "phoneNumber = re.compile(r'\\d\\d\\d-\\d\\d\\d-\\d\\d\\d\\d') \n",
    "\n",
    "\n",
    "num = phoneNumber.search(message) #this searches for the first phone number\n",
    "numAll = phoneNumber.findall(message) #this searches all occurences of the phone number pattern\n",
    "\n",
    "#print results out\n",
    "print(num)\n",
    "print(num.group()) #the group object tells you the actual text\n",
    "print(numAll) #returns a list of strings"
   ]
  },
  {
   "cell_type": "code",
   "execution_count": 30,
   "metadata": {},
   "outputs": [
    {
     "output_type": "stream",
     "name": "stdout",
     "text": [
      "415-533-5353\n415\n==================================================\n[('415', '533-5353'), ('412', '555-4332')]\n"
     ]
    }
   ],
   "source": [
    "#we can also mark out groups using RE\n",
    "#let's take out the area code from the phone number. That's the first 3 digits\n",
    "\n",
    "phoneGroup = re.compile(r'(\\d\\d\\d)-(\\d\\d\\d-\\d\\d\\d\\d)')\n",
    "\n",
    "num2 = phoneGroup.search(message)\n",
    "print(num2.group())  # or num2.group()\n",
    "print(num2.group(1)) \n",
    "num2.group(2)\n",
    "print('='*50)\n",
    "\n",
    "#to find all\n",
    "num3 = phoneGroup.findall(message)\n",
    "print(num3) #returns a list of tuples with have strings (with groups)\n"
   ]
  },
  {
   "cell_type": "code",
   "execution_count": 24,
   "metadata": {},
   "outputs": [
    {
     "output_type": "stream",
     "name": "stdout",
     "text": [
      "Batmobile\n==================================================\n['mobile', 'man']\n"
     ]
    }
   ],
   "source": [
    "#looking for all possible suffixes\n",
    "BatRegex = re.compile(r'Bat(man|mobile|copter|bat)')\n",
    "\n",
    "mo = BatRegex.search('Batmobile lost a wheel by Batman')\n",
    "print(mo.group())\n",
    "print('='*50)\n",
    "\n",
    "mo1 = BatRegex.findall('Batmobile lost a wheel by Batman')\n",
    "print(mo1)"
   ]
  },
  {
   "source": [
    "# '?' refers to the preceding group appearing once or zero times\n",
    "\n",
    "BatRegex = re.compile(r'Bat(wo)?man')\n",
    "\n",
    "mo = BatRegex.search('The Adventures of Batman')\n",
    "print(mo.group())\n",
    "print('='*50)\n",
    "\n",
    "mo = BatRegex.search('The Adventures of Batwoman')\n",
    "print(mo.group())\n",
    "print('='*50)\n",
    "\n",
    "mo = BatRegex.search('The Adventures of Batwowowoman')\n",
    "mo == None  #it will return None since it exists more than once"
   ],
   "cell_type": "code",
   "metadata": {},
   "execution_count": 23,
   "outputs": [
    {
     "output_type": "stream",
     "name": "stdout",
     "text": [
      "Batman\n==================================================\nBatwoman\n==================================================\n"
     ]
    },
    {
     "output_type": "execute_result",
     "data": {
      "text/plain": [
       "True"
      ]
     },
     "metadata": {},
     "execution_count": 23
    }
   ]
  },
  {
   "cell_type": "code",
   "execution_count": 11,
   "metadata": {},
   "outputs": [
    {
     "output_type": "execute_result",
     "data": {
      "text/plain": [
       "<re.Match object; span=(19, 31), match='415-333-1355'>"
      ]
     },
     "metadata": {},
     "execution_count": 11
    }
   ],
   "source": [
    "#using the ? to check phone numbers that may oy may not have an area code in front of it\n",
    "\n",
    "phoneRegex = re.compile(r'(\\d\\d\\d-)?\\d\\d\\d-\\d\\d\\d\\d')\n",
    "\n",
    "#with the area code\n",
    "phone = phoneRegex.search('My phone number is 415-333-1355. Call me tomorrow') \n",
    "print(phone)\n",
    "\n",
    "#without the area code\n",
    "phone = phoneRegex.search('My phone number is 333-1355. Call me tomorrow')\n",
    "print(phone)"
   ]
  },
  {
   "cell_type": "code",
   "execution_count": 2,
   "metadata": {},
   "outputs": [
    {
     "output_type": "execute_result",
     "data": {
      "text/plain": [
       "<re.Match object; span=(16, 19), match='+*?'>"
      ]
     },
     "metadata": {},
     "execution_count": 2
    }
   ],
   "source": [
    "#to get literal characters, wwe add a backslash \\\n",
    "\n",
    "regex = re.compile(r'\\+\\*\\?')\n",
    "regex.search('I learned about +*? in class today')"
   ]
  },
  {
   "cell_type": "code",
   "execution_count": 4,
   "metadata": {},
   "outputs": [
    {
     "output_type": "execute_result",
     "data": {
      "text/plain": [
       "['+*?', '+*?', '+*?', '+*?']"
      ]
     },
     "metadata": {},
     "execution_count": 4
    }
   ],
   "source": [
    "# the  + sign shows to appera one or more times\n",
    "\n",
    "regex = re.compile(r'\\+\\*\\?')\n",
    "regex.findall('I learned about +*?+*?+*?+*? in class today')"
   ]
  },
  {
   "cell_type": "code",
   "execution_count": 22,
   "metadata": {},
   "outputs": [
    {
     "output_type": "stream",
     "name": "stdout",
     "text": [
      "True\n==================================================\n<re.Match object; span=(8, 16), match='HaHaHaHa'>\n"
     ]
    }
   ],
   "source": [
    "# to match the exact characters\n",
    "\n",
    "haRegex = re.compile(r'(Ha){4}') #to match Ha that occurs exactly 4 times\n",
    "\n",
    "ha = haRegex.search('He said HaHaHa') #Ha occurs 3 times\n",
    "print(ha == None)\n",
    "print('='*50)\n",
    "\n",
    "ha1 = haRegex.search('He said HaHaHaHa')\n",
    "print(ha1)"
   ]
  },
  {
   "cell_type": "code",
   "execution_count": 13,
   "metadata": {},
   "outputs": [
    {
     "output_type": "execute_result",
     "data": {
      "text/plain": [
       "<re.Match object; span=(21, 59), match='222-787-8999,555-788-3324,444-785-5529'>"
      ]
     },
     "metadata": {},
     "execution_count": 13
    }
   ],
   "source": [
    "#another example - three phone numbers in a row\n",
    "phoneRegex = re.compile(r'((\\d\\d\\d-)?\\d\\d\\d-\\d\\d\\d\\d(,)?){3}') #the comma might or might not be there\n",
    "\n",
    "phoneRegex.search('My phone numbers are 222-787-8999,555-788-3324,444-785-5529')"
   ]
  },
  {
   "cell_type": "code",
   "execution_count": 21,
   "metadata": {},
   "outputs": [
    {
     "output_type": "stream",
     "name": "stdout",
     "text": [
      "<re.Match object; span=(8, 14), match='HaHaHa'>\n==================================================\n<re.Match object; span=(8, 16), match='HaHaHaHa'>\n==================================================\nNone\n==================================================\n<re.Match object; span=(8, 18), match='HaHaHaHaHa'>\n"
     ]
    }
   ],
   "source": [
    "haRegex = re.compile(r'(Ha){2,5}') #to match Ha that occurs 2-5 times\n",
    "\n",
    "ha = haRegex.search('He said HaHaHa') #Ha occurs 3 times\n",
    "print(ha)\n",
    "print('='*50)\n",
    "\n",
    "ha1 = haRegex.search('He said HaHaHaHa')\n",
    "print(ha1)\n",
    "print('='*50)\n",
    "\n",
    "ha2 = haRegex.search('He said Ha') #it won't match\n",
    "print(ha2)\n",
    "print('='*50)\n",
    "\n",
    "ha3 = haRegex.search('He said HaHaHaHaHaHaHaHa') #it matches only the first 5\n",
    "print(ha3)"
   ]
  },
  {
   "source": [
    "## Shorthand Codes for common character classes\n",
    "\n",
    "\\d      any numeric digit from 0 to 9\n",
    "\\D      any character that is NOT a numeric digit from 0 to 9\n",
    "\n",
    "\\w      any letter, numeric digit, or the underscore character (think of this as matching \"word\" characters)\n",
    "\n",
    "\\W      any character that is NOT a letter, numeric digit, or the underscore character\n",
    "\n",
    "\\s      any space tab, or newline character (think of this as matching \"space\" characters)\n",
    "\n",
    "\\S      any character that is NOT a space tab, or newline character"
   ],
   "cell_type": "markdown",
   "metadata": {}
  },
  {
   "source": [
    "#12 Days of Christmas\n",
    "\n",
    "lyrics = '12 drummers drumming, 11 players piping, 10 lords a leaping, 9 ladies dancing, 8 maids a milking, 7 swans a swimming, 6 geese a laying, 5 golden rings, 4 calling birds, 3 french hens, 2 turtle doves, and 1 patridge in a pear tree'\n",
    "\n",
    "xmasRegex = re.compile(r'\\d+\\s\\w+')\n",
    "xmasRegex.findall(lyrics)"
   ],
   "cell_type": "code",
   "metadata": {},
   "execution_count": 31,
   "outputs": [
    {
     "output_type": "execute_result",
     "data": {
      "text/plain": [
       "['12 drummers',\n",
       " '11 players',\n",
       " '10 lords',\n",
       " '9 ladies',\n",
       " '8 maids',\n",
       " '7 swans',\n",
       " '6 geese',\n",
       " '5 golden',\n",
       " '4 calling',\n",
       " '3 french',\n",
       " '2 turtle',\n",
       " '1 patridge']"
      ]
     },
     "metadata": {},
     "execution_count": 31
    }
   ]
  },
  {
   "cell_type": "code",
   "execution_count": 34,
   "metadata": {},
   "outputs": [
    {
     "output_type": "execute_result",
     "data": {
      "text/plain": [
       "['a', 'i', 'o', 'i', 'a', 'i', 'i', 'o', 'a', 'i', 'e']"
      ]
     },
     "metadata": {},
     "execution_count": 34
    }
   ],
   "source": [
    "# creating your own expressions e.g. VOWELS\n",
    "\n",
    "vowelRegex = re.compile(r'[aeiouAEIOU]')\n",
    "vowelRegex.findall('Taiwo is a billionaire')"
   ]
  },
  {
   "cell_type": "code",
   "execution_count": 35,
   "metadata": {},
   "outputs": [
    {
     "output_type": "execute_result",
     "data": {
      "text/plain": [
       "['ai', 'io', 'ai']"
      ]
     },
     "metadata": {},
     "execution_count": 35
    }
   ],
   "source": [
    "vowelRegex = re.compile(r'[aeiouAEIOU]{2}') #looking for two vowels in a roll\n",
    "vowelRegex.findall('Taiwo is a billionaire')"
   ]
  },
  {
   "cell_type": "code",
   "execution_count": 38,
   "metadata": {},
   "outputs": [
    {
     "output_type": "execute_result",
     "data": {
      "text/plain": [
       "['T', 'w', ' ', 's', ' ', ' ', 'b', 'l', 'l', 'n', 'r']"
      ]
     },
     "metadata": {},
     "execution_count": 38
    }
   ],
   "source": [
    "# negative character classes using the ^ symbol\n",
    "oppVowelRegex = re.compile(r'[^aeiouAEIOU]') #find all non-vowel characters\n",
    "oppVowelRegex.findall('Taiwo is a billionaire') #note that it gets spaces, numeric and punctuation"
   ]
  },
  {
   "cell_type": "code",
   "execution_count": 39,
   "metadata": {},
   "outputs": [
    {
     "output_type": "stream",
     "name": "stdout",
     "text": [
      "<re.Match object; span=(0, 5), match='Hello'>\n==================================================\nNone\n"
     ]
    }
   ],
   "source": [
    "# the symbol ^ shows that it begins with the expression \n",
    "beginsWithRegex = re.compile(r'^Hello') #starts with Hello\n",
    "mo = beginsWithRegex.search('Hello there!')\n",
    "print(mo)\n",
    "print('='*50)\n",
    "\n",
    "mo1 = beginsWithRegex.search('Heyy, Hello')\n",
    "print(mo1)"
   ]
  },
  {
   "cell_type": "code",
   "execution_count": 41,
   "metadata": {},
   "outputs": [
    {
     "output_type": "stream",
     "name": "stdout",
     "text": [
      "None\n==================================================\n<re.Match object; span=(6, 11), match='Hello'>\n"
     ]
    }
   ],
   "source": [
    "# the symbol $ shows that it ends with the expression \n",
    "endsWithRegex = re.compile(r'Hello$') #starts with Hello\n",
    "mo = endsWithRegex.search('Hello there!')\n",
    "print(mo)\n",
    "print('='*50)\n",
    "\n",
    "mo1 = endsWithRegex.search('Heyy, Hello')\n",
    "print(mo1)"
   ]
  },
  {
   "cell_type": "code",
   "execution_count": 49,
   "metadata": {},
   "outputs": [
    {
     "output_type": "stream",
     "name": "stdout",
     "text": [
      "<re.Match object; span=(0, 18), match='234568763445732135'>\n==================================================\n"
     ]
    },
    {
     "output_type": "execute_result",
     "data": {
      "text/plain": [
       "True"
      ]
     },
     "metadata": {},
     "execution_count": 49
    }
   ],
   "source": [
    "#we can use both ^ and $ to show it is exactly the character\n",
    "\n",
    "allDigits = re.compile(r'^\\d+$') # the + shows one or more digits\n",
    "mo = allDigits.search('234568763445732135')\n",
    "print(mo)\n",
    "print('='*50)\n",
    "\n",
    "mo1 = allDigits.search('243523x95402') #though it starts and ends with one or more digits, it returns false\n",
    "mo1 == None\n",
    "#this is because when we use both ^ abd $, it has to match exactly."
   ]
  },
  {
   "cell_type": "code",
   "execution_count": 60,
   "metadata": {},
   "outputs": [
    {
     "output_type": "stream",
     "name": "stdout",
     "text": [
      "['cat', 'hat', 'sat', 'lat', 'mat']\n"
     ]
    }
   ],
   "source": [
    "#the dot (.) character is for any character except a newline\n",
    "dotRegex = re.compile(r'.at') #any character followed by at\n",
    "\n",
    "at = dotRegex.findall('The cat in the hat sat on the flat mat') #flat is left out because it finds onnly one character before at\n",
    "print(at)\n",
    "\n",
    "\n",
    "#we can pass re.DOTALL as the second argument to make the . dot match newlines as well"
   ]
  },
  {
   "cell_type": "code",
   "execution_count": 53,
   "metadata": {},
   "outputs": [
    {
     "output_type": "stream",
     "name": "stdout",
     "text": [
      "[' cat', ' hat', ' sat', 'flat', ' mat']\n"
     ]
    }
   ],
   "source": [
    "dotRegex = re.compile(r'.{1,2}at') #one or two characters followed by at\n",
    "\n",
    "at = dotRegex.findall('The cat in the hat sat on the flat mat') #flat is left out because it finds onnly one character before at\n",
    "print(at)"
   ]
  },
  {
   "cell_type": "code",
   "execution_count": 54,
   "metadata": {},
   "outputs": [
    {
     "output_type": "execute_result",
     "data": {
      "text/plain": [
       "[('Taiwo', 'Odetola')]"
      ]
     },
     "metadata": {},
     "execution_count": 54
    }
   ],
   "source": [
    "# .* means any pattern\n",
    "\n",
    "name = 'First Name: Taiwo Last Name: Odetola'\n",
    "nameRegex = re.compile(r'First Name: (.*) Last Name: (.*)') #it finds as much as possible - called f=greedy mactching\n",
    "nameRegex.findall(name)"
   ]
  },
  {
   "cell_type": "code",
   "execution_count": 58,
   "metadata": {},
   "outputs": [
    {
     "output_type": "stream",
     "name": "stdout",
     "text": [
      "['<To serve humans>']\n==================================================\n['<To serve humans> is divine>']\n"
     ]
    }
   ],
   "source": [
    "# we add a ? to beome .*? for a non-greedy matching\n",
    "\n",
    "message = '<To serve humans> is divine>'\n",
    "\n",
    "nongreedy = re.compile(r'<.*?>')\n",
    "mo = nongreedy.findall(message)\n",
    "print(mo)\n",
    "print('='*50)\n",
    "\n",
    "greedy = re.compile(r'<.*>')\n",
    "mo1 = greedy.findall(message)\n",
    "print(mo1)"
   ]
  },
  {
   "cell_type": "code",
   "execution_count": 59,
   "metadata": {},
   "outputs": [
    {
     "output_type": "execute_result",
     "data": {
      "text/plain": [
       "['a', 'i', 'o', 'O', 'e', 'o', 'a', 'i', 'a', 'i', 'i', 'o', 'a', 'i', 'e']"
      ]
     },
     "metadata": {},
     "execution_count": 59
    }
   ],
   "source": [
    "# ignore all case \n",
    "\n",
    "vowelRegex = re.compile(r'[aeiouAEIOU]', re.I) #or re.IGNORECASE\n",
    "vowelRegex.findall('Taiwo Odetola is a BILLIONAIRE')"
   ]
  },
  {
   "cell_type": "code",
   "execution_count": null,
   "metadata": {},
   "outputs": [],
   "source": []
  }
 ]
}