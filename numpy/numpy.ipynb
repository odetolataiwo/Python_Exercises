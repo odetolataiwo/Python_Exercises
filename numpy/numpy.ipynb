{
  "nbformat": 4,
  "nbformat_minor": 0,
  "metadata": {
    "colab": {
      "name": "Numpy.ipynb",
      "provenance": [],
      "collapsed_sections": [],
      "authorship_tag": "ABX9TyMVEpX7jmNlCiP6fdm+wnA/",
      "include_colab_link": true
    },
    "kernelspec": {
      "name": "python3",
      "display_name": "Python 3"
    }
  },
  "cells": [
    {
      "cell_type": "markdown",
      "metadata": {
        "id": "view-in-github",
        "colab_type": "text"
      },
      "source": [
        "<a href=\"https://colab.research.google.com/github/odetolataiwo/random_exercises/blob/main/numpy/numpy.ipynb\" target=\"_parent\"><img src=\"https://colab.research.google.com/assets/colab-badge.svg\" alt=\"Open In Colab\"/></a>"
      ]
    },
    {
      "cell_type": "markdown",
      "metadata": {
        "id": "PHRLsF0Di3td"
      },
      "source": [
        "# Basic Numpy Basics"
      ]
    },
    {
      "cell_type": "markdown",
      "metadata": {
        "id": "Dj5MxsO0cRdw"
      },
      "source": [
        "Inspired by freeCodeCamp.org \n",
        "https://www.youtube.com/watch?v=QUT1VHiLmmI&t=89s"
      ]
    },
    {
      "cell_type": "code",
      "metadata": {
        "id": "Ar-XdZbsXHME"
      },
      "source": [
        "import numpy as np "
      ],
      "execution_count": null,
      "outputs": []
    },
    {
      "cell_type": "code",
      "metadata": {
        "id": "DLOcfcM7a8V0",
        "colab": {
          "base_uri": "https://localhost:8080/"
        },
        "outputId": "5824a7dd-b2b0-40f8-f0c0-7412afb9c83e"
      },
      "source": [
        "a = np.array([1,2,3])\n",
        "print(a)"
      ],
      "execution_count": null,
      "outputs": [
        {
          "output_type": "stream",
          "text": [
            "[1 2 3]\n"
          ],
          "name": "stdout"
        }
      ]
    },
    {
      "cell_type": "code",
      "metadata": {
        "id": "HZsdwNlEbCme",
        "colab": {
          "base_uri": "https://localhost:8080/"
        },
        "outputId": "ba70069b-d4e3-48b8-b7c5-f2e244f91135"
      },
      "source": [
        "b = np.array([[1,2,3],[4,5,6]])\n",
        "print(b)"
      ],
      "execution_count": null,
      "outputs": [
        {
          "output_type": "stream",
          "text": [
            "[[1 2 3]\n",
            " [4 5 6]]\n"
          ],
          "name": "stdout"
        }
      ]
    },
    {
      "cell_type": "code",
      "metadata": {
        "id": "EH8LmwgXbMLr",
        "colab": {
          "base_uri": "https://localhost:8080/"
        },
        "outputId": "b4bdb743-5e5c-43e0-bda8-c9562e779c2d"
      },
      "source": [
        "#get dimension\n",
        "a.ndim "
      ],
      "execution_count": null,
      "outputs": [
        {
          "output_type": "execute_result",
          "data": {
            "text/plain": [
              "1"
            ]
          },
          "metadata": {
            "tags": []
          },
          "execution_count": 5
        }
      ]
    },
    {
      "cell_type": "code",
      "metadata": {
        "id": "YrbVG3Z8baMo",
        "colab": {
          "base_uri": "https://localhost:8080/"
        },
        "outputId": "6b7d472f-4a3c-4d5c-f6e6-0073d1f53de4"
      },
      "source": [
        "#get shape\n",
        "b.shape"
      ],
      "execution_count": null,
      "outputs": [
        {
          "output_type": "execute_result",
          "data": {
            "text/plain": [
              "(2, 3)"
            ]
          },
          "metadata": {
            "tags": []
          },
          "execution_count": 6
        }
      ]
    },
    {
      "cell_type": "code",
      "metadata": {
        "id": "USw-_F_gbdnw",
        "colab": {
          "base_uri": "https://localhost:8080/"
        },
        "outputId": "15296a10-c859-4c0c-9e59-a8dcbe961253"
      },
      "source": [
        "#get type\n",
        "a.dtype "
      ],
      "execution_count": null,
      "outputs": [
        {
          "output_type": "execute_result",
          "data": {
            "text/plain": [
              "dtype('int64')"
            ]
          },
          "metadata": {
            "tags": []
          },
          "execution_count": 7
        }
      ]
    },
    {
      "cell_type": "markdown",
      "metadata": {
        "id": "Qz71DIZvce8o"
      },
      "source": [
        "Accessing/Changing specific elements, rows"
      ]
    },
    {
      "cell_type": "code",
      "metadata": {
        "id": "F3CdOA6fbtxo",
        "colab": {
          "base_uri": "https://localhost:8080/"
        },
        "outputId": "b119bafc-ed91-40a7-aff3-34a32644caf1"
      },
      "source": [
        "c = np.array([[1,2,3,4,6,5,7],[5,7,9,3,1,4,7]])\n",
        "print(c)"
      ],
      "execution_count": null,
      "outputs": [
        {
          "output_type": "stream",
          "text": [
            "[[1 2 3 4 6 5 7]\n",
            " [5 7 9 3 1 4 7]]\n"
          ],
          "name": "stdout"
        }
      ]
    },
    {
      "cell_type": "code",
      "metadata": {
        "id": "y2FlQR8ac3UR",
        "colab": {
          "base_uri": "https://localhost:8080/"
        },
        "outputId": "f64f520e-a4a8-409d-bc64-e304982e94b2"
      },
      "source": [
        "#get specific items a[row,column]\n",
        "c[1,5]"
      ],
      "execution_count": null,
      "outputs": [
        {
          "output_type": "execute_result",
          "data": {
            "text/plain": [
              "4"
            ]
          },
          "metadata": {
            "tags": []
          },
          "execution_count": 9
        }
      ]
    },
    {
      "cell_type": "code",
      "metadata": {
        "id": "vcwHmAKmdPFU",
        "colab": {
          "base_uri": "https://localhost:8080/"
        },
        "outputId": "5ab26033-696a-44f6-e494-54da1b1d03d4"
      },
      "source": [
        "#get specific row \n",
        "c[1,:]"
      ],
      "execution_count": null,
      "outputs": [
        {
          "output_type": "execute_result",
          "data": {
            "text/plain": [
              "array([5, 7, 9, 3, 1, 4, 7])"
            ]
          },
          "metadata": {
            "tags": []
          },
          "execution_count": 10
        }
      ]
    },
    {
      "cell_type": "code",
      "metadata": {
        "id": "zCRJhezIc9f4",
        "colab": {
          "base_uri": "https://localhost:8080/"
        },
        "outputId": "8f873c56-00c8-4276-d5ca-858e1201c5ca"
      },
      "source": [
        "#get specific column \n",
        "c[:,0]"
      ],
      "execution_count": null,
      "outputs": [
        {
          "output_type": "execute_result",
          "data": {
            "text/plain": [
              "array([1, 5])"
            ]
          },
          "metadata": {
            "tags": []
          },
          "execution_count": 11
        }
      ]
    },
    {
      "cell_type": "code",
      "metadata": {
        "id": "knCPRF86diH0",
        "colab": {
          "base_uri": "https://localhost:8080/"
        },
        "outputId": "432be55a-2702-4378-ae4e-32e8e3df160c"
      },
      "source": [
        "#a[row, startindex:endindex:stepsize]\n",
        "c[0, 1:-2:2]"
      ],
      "execution_count": null,
      "outputs": [
        {
          "output_type": "execute_result",
          "data": {
            "text/plain": [
              "array([2, 4])"
            ]
          },
          "metadata": {
            "tags": []
          },
          "execution_count": 12
        }
      ]
    },
    {
      "cell_type": "code",
      "metadata": {
        "id": "xOKlDvbueDaO",
        "colab": {
          "base_uri": "https://localhost:8080/"
        },
        "outputId": "c3260c1b-91c4-478e-94d5-60e68427612b"
      },
      "source": [
        "c[1,5]=3\n",
        "print(c)"
      ],
      "execution_count": null,
      "outputs": [
        {
          "output_type": "stream",
          "text": [
            "[[1 2 3 4 6 5 7]\n",
            " [5 7 9 3 1 3 7]]\n"
          ],
          "name": "stdout"
        }
      ]
    },
    {
      "cell_type": "code",
      "metadata": {
        "id": "G-t906qEeSV1",
        "colab": {
          "base_uri": "https://localhost:8080/"
        },
        "outputId": "0dfaec3e-03f3-415b-fbf8-740bc3216051"
      },
      "source": [
        " #3D\n",
        " \n",
        " d = np.array([[[1,2],[3,4]],[[5,6],[7,8]]])\n",
        " print(d)"
      ],
      "execution_count": null,
      "outputs": [
        {
          "output_type": "stream",
          "text": [
            "[[[1 2]\n",
            "  [3 4]]\n",
            "\n",
            " [[5 6]\n",
            "  [7 8]]]\n"
          ],
          "name": "stdout"
        }
      ]
    },
    {
      "cell_type": "code",
      "metadata": {
        "id": "y_wxVGvVez4x",
        "colab": {
          "base_uri": "https://localhost:8080/"
        },
        "outputId": "8ae2fd72-398f-45f1-ea74-d426b19eb6ef"
      },
      "source": [
        "#get specific element(work outside in)\n",
        "d[0,1,1]"
      ],
      "execution_count": null,
      "outputs": [
        {
          "output_type": "execute_result",
          "data": {
            "text/plain": [
              "4"
            ]
          },
          "metadata": {
            "tags": []
          },
          "execution_count": 15
        }
      ]
    },
    {
      "cell_type": "code",
      "metadata": {
        "id": "cOi7QcatfFti",
        "colab": {
          "base_uri": "https://localhost:8080/"
        },
        "outputId": "0d595aca-a867-4669-c342-82c9f5dee86d"
      },
      "source": [
        "d[0,1,:]"
      ],
      "execution_count": null,
      "outputs": [
        {
          "output_type": "execute_result",
          "data": {
            "text/plain": [
              "array([3, 4])"
            ]
          },
          "metadata": {
            "tags": []
          },
          "execution_count": 16
        }
      ]
    },
    {
      "cell_type": "markdown",
      "metadata": {
        "id": "wUwMV92GfadF"
      },
      "source": [
        "Initializing Different Types of Arrays"
      ]
    },
    {
      "cell_type": "code",
      "metadata": {
        "id": "C4bQOxeHfL3K",
        "colab": {
          "base_uri": "https://localhost:8080/"
        },
        "outputId": "2f796da8-f705-4168-d372-53bdd88a46c6"
      },
      "source": [
        "np.zeros((2,2))"
      ],
      "execution_count": null,
      "outputs": [
        {
          "output_type": "execute_result",
          "data": {
            "text/plain": [
              "array([[0., 0.],\n",
              "       [0., 0.]])"
            ]
          },
          "metadata": {
            "tags": []
          },
          "execution_count": 17
        }
      ]
    },
    {
      "cell_type": "code",
      "metadata": {
        "id": "C6o8XOjTfjvA",
        "colab": {
          "base_uri": "https://localhost:8080/"
        },
        "outputId": "eca84309-d3ce-4fd3-efc7-52fac761c894"
      },
      "source": [
        "np.ones((4,2,2))"
      ],
      "execution_count": null,
      "outputs": [
        {
          "output_type": "execute_result",
          "data": {
            "text/plain": [
              "array([[[1., 1.],\n",
              "        [1., 1.]],\n",
              "\n",
              "       [[1., 1.],\n",
              "        [1., 1.]],\n",
              "\n",
              "       [[1., 1.],\n",
              "        [1., 1.]],\n",
              "\n",
              "       [[1., 1.],\n",
              "        [1., 1.]]])"
            ]
          },
          "metadata": {
            "tags": []
          },
          "execution_count": 18
        }
      ]
    },
    {
      "cell_type": "code",
      "metadata": {
        "id": "QBNq7qu0fop1",
        "colab": {
          "base_uri": "https://localhost:8080/"
        },
        "outputId": "28a00875-afb6-44b4-9fb4-2348f4769860"
      },
      "source": [
        "np.full((2,3), 99)"
      ],
      "execution_count": null,
      "outputs": [
        {
          "output_type": "execute_result",
          "data": {
            "text/plain": [
              "array([[99, 99, 99],\n",
              "       [99, 99, 99]])"
            ]
          },
          "metadata": {
            "tags": []
          },
          "execution_count": 19
        }
      ]
    },
    {
      "cell_type": "code",
      "metadata": {
        "id": "QmjyMF8jfydg",
        "colab": {
          "base_uri": "https://localhost:8080/"
        },
        "outputId": "83e8f41a-e4c0-48bc-ba91-acb61489e434"
      },
      "source": [
        "np.full(a.shape, 4)"
      ],
      "execution_count": null,
      "outputs": [
        {
          "output_type": "execute_result",
          "data": {
            "text/plain": [
              "array([4, 4, 4])"
            ]
          },
          "metadata": {
            "tags": []
          },
          "execution_count": 20
        }
      ]
    },
    {
      "cell_type": "code",
      "metadata": {
        "id": "hk6rix7ZgHZw",
        "colab": {
          "base_uri": "https://localhost:8080/"
        },
        "outputId": "b2b6d15f-71f4-486d-98c6-09214aa79a09"
      },
      "source": [
        "np.random.rand(4,3) #decimal"
      ],
      "execution_count": null,
      "outputs": [
        {
          "output_type": "execute_result",
          "data": {
            "text/plain": [
              "array([[0.04050135, 0.60645902, 0.93257141],\n",
              "       [0.10972747, 0.46680817, 0.2268297 ],\n",
              "       [0.00341918, 0.15411043, 0.57637492],\n",
              "       [0.34989175, 0.67769973, 0.88458408]])"
            ]
          },
          "metadata": {
            "tags": []
          },
          "execution_count": 21
        }
      ]
    },
    {
      "cell_type": "code",
      "metadata": {
        "id": "j_rcduZ_gToV",
        "colab": {
          "base_uri": "https://localhost:8080/"
        },
        "outputId": "f2e61c9b-4c29-4dea-9813-b69d2cbd5fef"
      },
      "source": [
        "np.random.randint(7, size=(3,3)) #integers till 7 exluding 7"
      ],
      "execution_count": null,
      "outputs": [
        {
          "output_type": "execute_result",
          "data": {
            "text/plain": [
              "array([[3, 2, 3],\n",
              "       [5, 3, 2],\n",
              "       [3, 3, 0]])"
            ]
          },
          "metadata": {
            "tags": []
          },
          "execution_count": 22
        }
      ]
    },
    {
      "cell_type": "code",
      "metadata": {
        "id": "0hj7bfJ7gvql",
        "colab": {
          "base_uri": "https://localhost:8080/"
        },
        "outputId": "1ebd9279-71f9-434a-966a-4ab1cb2347c1"
      },
      "source": [
        "np.random.randint(-4,7, size=(3,3)) #integers from -4 till 7 exluding 7"
      ],
      "execution_count": null,
      "outputs": [
        {
          "output_type": "execute_result",
          "data": {
            "text/plain": [
              "array([[ 4,  1, -2],\n",
              "       [ 6,  5,  3],\n",
              "       [ 2,  5,  5]])"
            ]
          },
          "metadata": {
            "tags": []
          },
          "execution_count": 23
        }
      ]
    },
    {
      "cell_type": "code",
      "metadata": {
        "id": "KF6n6Irtg7fP",
        "colab": {
          "base_uri": "https://localhost:8080/"
        },
        "outputId": "12d6ed7b-f1ca-4d39-f51a-53cf7194dbf5"
      },
      "source": [
        "np.identity(5) #identity matrix"
      ],
      "execution_count": null,
      "outputs": [
        {
          "output_type": "execute_result",
          "data": {
            "text/plain": [
              "array([[1., 0., 0., 0., 0.],\n",
              "       [0., 1., 0., 0., 0.],\n",
              "       [0., 0., 1., 0., 0.],\n",
              "       [0., 0., 0., 1., 0.],\n",
              "       [0., 0., 0., 0., 1.]])"
            ]
          },
          "metadata": {
            "tags": []
          },
          "execution_count": 24
        }
      ]
    },
    {
      "cell_type": "code",
      "metadata": {
        "id": "iB5jeNlOg5F8",
        "colab": {
          "base_uri": "https://localhost:8080/"
        },
        "outputId": "447803d7-a32c-4a79-caae-f61c0a1143d8"
      },
      "source": [
        "#Repeat an array\n",
        "arr = np.array([[1,2,3]])\n",
        "r = np.repeat(arr, 3, axis=0) #repeat 3 times\n",
        "print(r)"
      ],
      "execution_count": null,
      "outputs": [
        {
          "output_type": "stream",
          "text": [
            "[[1 2 3]\n",
            " [1 2 3]\n",
            " [1 2 3]]\n"
          ],
          "name": "stdout"
        }
      ]
    },
    {
      "cell_type": "code",
      "metadata": {
        "id": "Yo5GTHr9hjvP",
        "colab": {
          "base_uri": "https://localhost:8080/"
        },
        "outputId": "64b459a5-f4df-4b13-d112-13b45bd171bc"
      },
      "source": [
        "output = np.ones ((5,5))\n",
        "print(output)"
      ],
      "execution_count": null,
      "outputs": [
        {
          "output_type": "stream",
          "text": [
            "[[1. 1. 1. 1. 1.]\n",
            " [1. 1. 1. 1. 1.]\n",
            " [1. 1. 1. 1. 1.]\n",
            " [1. 1. 1. 1. 1.]\n",
            " [1. 1. 1. 1. 1.]]\n"
          ],
          "name": "stdout"
        }
      ]
    },
    {
      "cell_type": "code",
      "metadata": {
        "id": "TBwvcAYkh97o",
        "colab": {
          "base_uri": "https://localhost:8080/"
        },
        "outputId": "ef6a64f8-6b62-4f79-922f-c51b8f68f0e4"
      },
      "source": [
        "z = np.zeros((3,3))\n",
        "print(z)\n",
        "\n",
        "z[1,1] = 9\n",
        "print(z)"
      ],
      "execution_count": null,
      "outputs": [
        {
          "output_type": "stream",
          "text": [
            "[[0. 0. 0.]\n",
            " [0. 0. 0.]\n",
            " [0. 0. 0.]]\n",
            "[[0. 0. 0.]\n",
            " [0. 9. 0.]\n",
            " [0. 0. 0.]]\n"
          ],
          "name": "stdout"
        }
      ]
    },
    {
      "cell_type": "code",
      "metadata": {
        "id": "Jt80B_briMpG",
        "colab": {
          "base_uri": "https://localhost:8080/"
        },
        "outputId": "277996ce-b055-43e6-c4df-6372062c5363"
      },
      "source": [
        "output[1:-1,1:-1] = z\n",
        "print(output)"
      ],
      "execution_count": null,
      "outputs": [
        {
          "output_type": "stream",
          "text": [
            "[[1. 1. 1. 1. 1.]\n",
            " [1. 0. 0. 0. 1.]\n",
            " [1. 0. 9. 0. 1.]\n",
            " [1. 0. 0. 0. 1.]\n",
            " [1. 1. 1. 1. 1.]]\n"
          ],
          "name": "stdout"
        }
      ]
    },
    {
      "cell_type": "markdown",
      "metadata": {
        "id": "ECas9c_sjivm"
      },
      "source": [
        "Mathematics"
      ]
    },
    {
      "cell_type": "code",
      "metadata": {
        "id": "OdfPN65figa0",
        "colab": {
          "base_uri": "https://localhost:8080/"
        },
        "outputId": "9aa0b41d-9145-44a6-a2c1-41e8df97aa10"
      },
      "source": [
        "e = np.array([1,2,3,4])\n",
        "print(a)"
      ],
      "execution_count": null,
      "outputs": [
        {
          "output_type": "stream",
          "text": [
            "[1 2 3]\n"
          ],
          "name": "stdout"
        }
      ]
    },
    {
      "cell_type": "code",
      "metadata": {
        "id": "qamRv1Objsvi",
        "colab": {
          "base_uri": "https://localhost:8080/"
        },
        "outputId": "13584f5c-dd49-470e-f1f8-b9a43720d71c"
      },
      "source": [
        "e + 2"
      ],
      "execution_count": null,
      "outputs": [
        {
          "output_type": "execute_result",
          "data": {
            "text/plain": [
              "array([3, 4, 5, 6])"
            ]
          },
          "metadata": {
            "tags": []
          },
          "execution_count": 30
        }
      ]
    },
    {
      "cell_type": "code",
      "metadata": {
        "id": "9XtzTyD0ju6m"
      },
      "source": [
        "f = np.array([1,0,1,0])"
      ],
      "execution_count": null,
      "outputs": []
    },
    {
      "cell_type": "code",
      "metadata": {
        "id": "zE0p9Viqj4fA",
        "colab": {
          "base_uri": "https://localhost:8080/"
        },
        "outputId": "3f45fb88-5fed-4e70-8e11-05ac0cdb742a"
      },
      "source": [
        "e + f"
      ],
      "execution_count": null,
      "outputs": [
        {
          "output_type": "execute_result",
          "data": {
            "text/plain": [
              "array([2, 2, 4, 4])"
            ]
          },
          "metadata": {
            "tags": []
          },
          "execution_count": 32
        }
      ]
    },
    {
      "cell_type": "code",
      "metadata": {
        "id": "6zqsKMwTj5-7",
        "colab": {
          "base_uri": "https://localhost:8080/"
        },
        "outputId": "a8fac91e-03df-4357-9639-77dd705172b3"
      },
      "source": [
        "f ** 3"
      ],
      "execution_count": null,
      "outputs": [
        {
          "output_type": "execute_result",
          "data": {
            "text/plain": [
              "array([1, 0, 1, 0])"
            ]
          },
          "metadata": {
            "tags": []
          },
          "execution_count": 33
        }
      ]
    },
    {
      "cell_type": "code",
      "metadata": {
        "id": "LOFUCMk2kByt",
        "colab": {
          "base_uri": "https://localhost:8080/"
        },
        "outputId": "48af65d4-5352-41a3-f1c5-a87fd1c722b9"
      },
      "source": [
        "np.sin(f)"
      ],
      "execution_count": null,
      "outputs": [
        {
          "output_type": "execute_result",
          "data": {
            "text/plain": [
              "array([0.84147098, 0.        , 0.84147098, 0.        ])"
            ]
          },
          "metadata": {
            "tags": []
          },
          "execution_count": 34
        }
      ]
    },
    {
      "cell_type": "markdown",
      "metadata": {
        "id": "Xm0xXqoVDojW"
      },
      "source": [
        "Linear Algebra"
      ]
    },
    {
      "cell_type": "code",
      "metadata": {
        "id": "m4d1Eo_ykE-w",
        "colab": {
          "base_uri": "https://localhost:8080/"
        },
        "outputId": "aa676c27-700a-4a69-cb4d-aaa512d29b10"
      },
      "source": [
        "a = np.ones ((2,3))\n",
        "print(a)\n",
        "\n",
        "b = np.full((3,2), 2)\n",
        "print(b)"
      ],
      "execution_count": null,
      "outputs": [
        {
          "output_type": "stream",
          "text": [
            "[[1. 1. 1.]\n",
            " [1. 1. 1.]]\n",
            "[[2 2]\n",
            " [2 2]\n",
            " [2 2]]\n"
          ],
          "name": "stdout"
        }
      ]
    },
    {
      "cell_type": "code",
      "metadata": {
        "id": "Q80IThyfEmPA",
        "colab": {
          "base_uri": "https://localhost:8080/"
        },
        "outputId": "9b4c2bbc-230f-44e6-ba83-027f4a288df8"
      },
      "source": [
        "np.matmul(a,b)"
      ],
      "execution_count": null,
      "outputs": [
        {
          "output_type": "execute_result",
          "data": {
            "text/plain": [
              "array([[6., 6.],\n",
              "       [6., 6.]])"
            ]
          },
          "metadata": {
            "tags": []
          },
          "execution_count": 37
        }
      ]
    },
    {
      "cell_type": "code",
      "metadata": {
        "id": "tSZpDp8-EpQM",
        "colab": {
          "base_uri": "https://localhost:8080/"
        },
        "outputId": "ebc3bcbb-0d0f-419d-806b-4cd39fc542c2"
      },
      "source": [
        "#find the determinant\n",
        "c = np.identity(3)\n",
        "np.linalg.det(c)"
      ],
      "execution_count": null,
      "outputs": [
        {
          "output_type": "execute_result",
          "data": {
            "text/plain": [
              "1.0"
            ]
          },
          "metadata": {
            "tags": []
          },
          "execution_count": 38
        }
      ]
    },
    {
      "cell_type": "markdown",
      "metadata": {
        "id": "dqdP5OqxE70P"
      },
      "source": [
        "Statistics"
      ]
    },
    {
      "cell_type": "code",
      "metadata": {
        "id": "elRaLQRrE4Pw",
        "colab": {
          "base_uri": "https://localhost:8080/"
        },
        "outputId": "7885f9f8-f11e-4baf-f97a-a7d633d2c92d"
      },
      "source": [
        "stats = np.array([[1,2,3],[4,5,6]])\n",
        "stats"
      ],
      "execution_count": null,
      "outputs": [
        {
          "output_type": "execute_result",
          "data": {
            "text/plain": [
              "array([[1, 2, 3],\n",
              "       [4, 5, 6]])"
            ]
          },
          "metadata": {
            "tags": []
          },
          "execution_count": 39
        }
      ]
    },
    {
      "cell_type": "code",
      "metadata": {
        "id": "m-8RqE72FGq_",
        "colab": {
          "base_uri": "https://localhost:8080/"
        },
        "outputId": "f9e2f139-eaea-49e5-a0d0-5164a2acf5ae"
      },
      "source": [
        "np.min(stats, axis=1)"
      ],
      "execution_count": null,
      "outputs": [
        {
          "output_type": "execute_result",
          "data": {
            "text/plain": [
              "array([1, 4])"
            ]
          },
          "metadata": {
            "tags": []
          },
          "execution_count": 40
        }
      ]
    },
    {
      "cell_type": "code",
      "metadata": {
        "id": "7Ty-n2KmFKyL",
        "colab": {
          "base_uri": "https://localhost:8080/"
        },
        "outputId": "a07e14f6-f0d4-421e-8177-49f71aae83ef"
      },
      "source": [
        "np.min(stats)"
      ],
      "execution_count": null,
      "outputs": [
        {
          "output_type": "execute_result",
          "data": {
            "text/plain": [
              "1"
            ]
          },
          "metadata": {
            "tags": []
          },
          "execution_count": 41
        }
      ]
    },
    {
      "cell_type": "code",
      "metadata": {
        "id": "tN2e0DppFOXO",
        "colab": {
          "base_uri": "https://localhost:8080/"
        },
        "outputId": "30fa56b0-c9c4-46d0-d201-95470cdfacb6"
      },
      "source": [
        "np.sum(stats)"
      ],
      "execution_count": null,
      "outputs": [
        {
          "output_type": "execute_result",
          "data": {
            "text/plain": [
              "21"
            ]
          },
          "metadata": {
            "tags": []
          },
          "execution_count": 42
        }
      ]
    },
    {
      "cell_type": "code",
      "metadata": {
        "id": "FSL7tXlKFRoc",
        "colab": {
          "base_uri": "https://localhost:8080/"
        },
        "outputId": "8dcb17c4-bca7-45c7-ae6b-509c120ca491"
      },
      "source": [
        "np.sum(stats, axis=0)"
      ],
      "execution_count": null,
      "outputs": [
        {
          "output_type": "execute_result",
          "data": {
            "text/plain": [
              "array([5, 7, 9])"
            ]
          },
          "metadata": {
            "tags": []
          },
          "execution_count": 43
        }
      ]
    },
    {
      "cell_type": "markdown",
      "metadata": {
        "id": "StvWrHAdFbrK"
      },
      "source": [
        "Reorganizing Arrays"
      ]
    },
    {
      "cell_type": "code",
      "metadata": {
        "id": "TuvVo4VvFWYm",
        "colab": {
          "base_uri": "https://localhost:8080/"
        },
        "outputId": "0369a8dc-7e66-493d-a0da-0deb89252081"
      },
      "source": [
        "before = np.array([[1,2,3,4],[5,6,7,8]])\n",
        "print(before)\n",
        "\n",
        "after = before.reshape((4,2))\n",
        "print(after)"
      ],
      "execution_count": null,
      "outputs": [
        {
          "output_type": "stream",
          "text": [
            "[[1 2 3 4]\n",
            " [5 6 7 8]]\n",
            "[[1 2]\n",
            " [3 4]\n",
            " [5 6]\n",
            " [7 8]]\n"
          ],
          "name": "stdout"
        }
      ]
    },
    {
      "cell_type": "code",
      "metadata": {
        "id": "t17KEpEUFtlx",
        "colab": {
          "base_uri": "https://localhost:8080/"
        },
        "outputId": "503cf573-fae9-4891-9fd4-5ffe535a45f1"
      },
      "source": [
        "#vertical stacking\n",
        "v1 = np.array([1,2,3,4])\n",
        "v2 = np.array([5,6,7,8])\n",
        "\n",
        "np.vstack([v1,v2])"
      ],
      "execution_count": null,
      "outputs": [
        {
          "output_type": "execute_result",
          "data": {
            "text/plain": [
              "array([[1, 2, 3, 4],\n",
              "       [5, 6, 7, 8]])"
            ]
          },
          "metadata": {
            "tags": []
          },
          "execution_count": 47
        }
      ]
    },
    {
      "cell_type": "code",
      "metadata": {
        "id": "G5wtWQJaGDse",
        "colab": {
          "base_uri": "https://localhost:8080/"
        },
        "outputId": "8044b98a-f8a6-48f0-b7f3-58c01bbda33d"
      },
      "source": [
        "np.vstack([v1,v1,v2,v1])"
      ],
      "execution_count": null,
      "outputs": [
        {
          "output_type": "execute_result",
          "data": {
            "text/plain": [
              "array([[1, 2, 3, 4],\n",
              "       [1, 2, 3, 4],\n",
              "       [5, 6, 7, 8],\n",
              "       [1, 2, 3, 4]])"
            ]
          },
          "metadata": {
            "tags": []
          },
          "execution_count": 48
        }
      ]
    },
    {
      "cell_type": "code",
      "metadata": {
        "id": "_FKfhNycGIgt",
        "colab": {
          "base_uri": "https://localhost:8080/"
        },
        "outputId": "0f112f20-cfe3-426e-bd4c-287fed2d614e"
      },
      "source": [
        "np.hstack([v1,v1,v2,v1]) #horizontal stack"
      ],
      "execution_count": null,
      "outputs": [
        {
          "output_type": "execute_result",
          "data": {
            "text/plain": [
              "array([1, 2, 3, 4, 1, 2, 3, 4, 5, 6, 7, 8, 1, 2, 3, 4])"
            ]
          },
          "metadata": {
            "tags": []
          },
          "execution_count": 49
        }
      ]
    },
    {
      "cell_type": "code",
      "metadata": {
        "id": "eUUMJm0gGR5W"
      },
      "source": [
        " "
      ],
      "execution_count": null,
      "outputs": []
    }
  ]
}